{
 "cells": [
  {
   "cell_type": "code",
   "execution_count": 9,
   "metadata": {},
   "outputs": [
    {
     "name": "stdout",
     "output_type": "stream",
     "text": [
      "Enter how many names you want to put\n",
      "Enter the amount:2\n",
      "Give me a nameOcar\n",
      "Give me a nameRonaldo\n",
      "['Ocar', 'Ronaldo']\n",
      "¿What name do you want to print?\n",
      "1\n",
      "Ronaldo\n"
     ]
    }
   ],
   "source": [
    "print('Enter how many names you want to put')\n",
    "n1=int(input('Enter the amount:'))\n",
    "n2=1\n",
    "Lista=[]\n",
    "while n2<=n1:\n",
    "    a=[input('Give me a name')]\n",
    "    #In is this part n2 worth 1 will be added 1 unit until it reaches the same value as n1\n",
    "    Lista=Lista+a #In this part we are adding each name to the list\n",
    "    n2=n2+1 #In this part we are adding up 1 tode variable'''\n",
    "print(Lista)\n",
    "print('¿What name do you want to print?')\n",
    "n2=int(input()) \n",
    "print(Lista[n2]) #In this part we are selecting which section of the list we want to print'''"
   ]
  },
  {
   "cell_type": "code",
   "execution_count": null,
   "metadata": {},
   "outputs": [],
   "source": []
  },
  {
   "cell_type": "code",
   "execution_count": null,
   "metadata": {},
   "outputs": [],
   "source": []
  },
  {
   "cell_type": "code",
   "execution_count": null,
   "metadata": {},
   "outputs": [],
   "source": []
  }
 ],
 "metadata": {
  "kernelspec": {
   "display_name": "Python 3",
   "language": "python",
   "name": "python3"
  },
  "language_info": {
   "codemirror_mode": {
    "name": "ipython",
    "version": 3
   },
   "file_extension": ".py",
   "mimetype": "text/x-python",
   "name": "python",
   "nbconvert_exporter": "python",
   "pygments_lexer": "ipython3",
   "version": "3.7.4"
  }
 },
 "nbformat": 4,
 "nbformat_minor": 2
}
